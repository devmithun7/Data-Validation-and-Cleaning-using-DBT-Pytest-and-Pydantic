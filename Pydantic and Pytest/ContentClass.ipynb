{
 "cells": [
  {
   "cell_type": "code",
   "execution_count": 72,
   "id": "79cb92a3",
   "metadata": {},
   "outputs": [],
   "source": [
    "import re\n",
    "from pydantic import BaseModel, validator, ValidationError, Field, root_validator, constr\n",
    "from typing import List, Optional\n",
    "import pandas as pd\n",
    "from datetime import datetime"
   ]
  },
  {
   "cell_type": "code",
   "execution_count": null,
   "id": "25933e40",
   "metadata": {},
   "outputs": [],
   "source": [
    "'''\n",
    "Defines a class ContentClass for representing content data. \n",
    "It includes fields like level, title, topic, and learning_outcomes, \n",
    "with validation rules for ensuring that certain fields do not contain HTML or quote characters \n",
    "and that the level field matches a specific pattern. \n",
    "The @validator decorator is used for the topic field, while the @field_validator decorator is used for the title, \n",
    "learning_outcomes, and level fields. \n",
    "These validators help ensure that the content metadata is valid and can be used reliably in your application.\n",
    "'''"
   ]
  },
  {
   "cell_type": "code",
   "execution_count": 119,
   "id": "d2e1be77",
   "metadata": {},
   "outputs": [
    {
     "name": "stderr",
     "output_type": "stream",
     "text": [
      "/var/folders/1r/zt6q31651tv0kfm5wtg7t65m0000gq/T/ipykernel_13840/2120705955.py:11: PydanticDeprecatedSince20: Pydantic V1 style `@validator` validators are deprecated. You should migrate to Pydantic V2 style `@field_validator` validators, see the migration guide for more details. Deprecated in Pydantic V2.0 to be removed in V3.0. See Pydantic V2 Migration Guide at https://errors.pydantic.dev/2.6/migration/\n",
      "  @validator('level', 'title', 'topic', 'learning_outcomes', allow_reuse=True)\n",
      "/var/folders/1r/zt6q31651tv0kfm5wtg7t65m0000gq/T/ipykernel_13840/2120705955.py:18: PydanticDeprecatedSince20: Pydantic V1 style `@validator` validators are deprecated. You should migrate to Pydantic V2 style `@field_validator` validators, see the migration guide for more details. Deprecated in Pydantic V2.0 to be removed in V3.0. See Pydantic V2 Migration Guide at https://errors.pydantic.dev/2.6/migration/\n",
      "  @validator('level')\n"
     ]
    }
   ],
   "source": [
    "from pydantic import BaseModel, validator\n",
    "from typing import Optional\n",
    "import re\n",
    "\n",
    "class ContentClass(BaseModel):\n",
    "    level: str\n",
    "    title: str\n",
    "    topic: str\n",
    "    learning_outcomes: Optional[str] = None\n",
    "\n",
    "    @validator('level', 'title', 'topic', 'learning_outcomes', allow_reuse=True)\n",
    "    @classmethod\n",
    "    def validate_no_html_or_quotes(cls, v):\n",
    "        if v is not None and re.search(r\"[\\\"'<>&]\", v):\n",
    "            raise ValueError(\"Field contains invalid characters like quotes or HTML tags\")\n",
    "        return v\n",
    "\n",
    "    @validator('level')\n",
    "    @classmethod\n",
    "    def level_must_match_pattern(cls, v):\n",
    "        if not re.match(r\"Level (I|II|III)$\", v):\n",
    "            raise ValueError(\"level is not valid. Must be Level I, Level II, or Level III\")\n",
    "        return v\n"
   ]
  },
  {
   "cell_type": "code",
   "execution_count": null,
   "id": "f053afb2",
   "metadata": {},
   "outputs": [],
   "source": [
    "'''\n",
    "defines functions for parsing XML files, cleaning text, processing files, \n",
    "and writing the processed data to a CSV file. It uses xml.etree.ElementTree to parse XML files, \n",
    "extracts paragraph elements, and creates a Pandas DataFrame with the extracted data.\n",
    "The clean_text function removes unwanted characters from text. \n",
    "The process_files function iterates over a list of file paths, titles, \n",
    "and levels, calls parse_xml_files for each file, cleans the text, and concatenates \n",
    "the results into a single DataFrame.\n",
    "'''"
   ]
  },
  {
   "cell_type": "code",
   "execution_count": 97,
   "id": "a769e76f",
   "metadata": {},
   "outputs": [],
   "source": [
    "import xml.etree.ElementTree as ET\n",
    "import pandas as pd\n",
    "import re\n",
    "import csv\n",
    "\n",
    "def parse_xml_files(file_path, title, level):\n",
    "    # Parse the XML file\n",
    "    tree = ET.parse(file_path)\n",
    "    root = tree.getroot()\n",
    "    \n",
    "    # Namespace extracted dynamically if needed\n",
    "    namespace = {'tei': 'http://www.tei-c.org/ns/1.0'}\n",
    "\n",
    "    data = []\n",
    "    # Iterate through paragraph elements\n",
    "    for elem in root.findall('.//tei:p', namespaces=namespace):\n",
    "        # Extract text, including nested elements\n",
    "        paragraph = ''.join(elem.itertext())\n",
    "        data.append({\n",
    "            'level': level,\n",
    "            'title': title,\n",
    "            'topic': title,  # Assuming the title serves as the topic\n",
    "            'learning_outcomes': paragraph\n",
    "        })\n",
    "\n",
    "    return pd.DataFrame(data)\n",
    "\n",
    "def clean_text(text):\n",
    "    # Clean the text by removing unwanted characters\n",
    "    return re.sub(r'[\\'\"‘’”“<>]', '', str(text))\n",
    "\n",
    "def process_files(file_paths, titles, levels):\n",
    "    all_data = []\n",
    "    for file_path, title, level in zip(file_paths, titles, levels):\n",
    "        df = parse_xml_files(file_path, title, level)\n",
    "        all_data.append(df)\n",
    "\n",
    "    # Concatenate all dataframes\n",
    "    final_df = pd.concat(all_data, ignore_index=True)\n",
    "    # Apply text cleaning\n",
    "    final_df['learning_outcomes'] = final_df['learning_outcomes'].apply(clean_text)\n",
    "    return final_df\n",
    "\n",
    "def write_to_csv(df, file_path):\n",
    "    # Write the DataFrame to a CSV file\n",
    "    df.to_csv(file_path, index=False, quoting=csv.QUOTE_ALL)\n",
    "\n",
    "\n",
    "file_paths = [\n",
    "    \"/Users/Aneesh/Downloads/2024-l1-topics-combined-2.pdf.tei (1).xml\",\n",
    "    \"/Users/Aneesh/Downloads/2024-l2-topics-combined-2.pdf.tei (1).xml\",\n",
    "    \"/Users/Aneesh/Downloads/2024-l3-topics-combined-2.pdf.tei (1).xml\"\n",
    "]\n",
    "titles = [\"Derivatives\", \"Quantitative Methods\", \"Economics\"]\n",
    "levels = [\"Level I\", \"Level II\", \"Level III\"]\n",
    "\n",
    "# Process files\n",
    "final_df = process_files(file_paths, titles, levels)\n",
    "\n",
    "# Write to CSV\n",
    "csv_file_path = \"/Users/Aneesh/Downloads/Clean CSV1/content_data.csv\"\n",
    "write_to_csv(final_df, csv_file_path)"
   ]
  },
  {
   "cell_type": "code",
   "execution_count": 101,
   "id": "1871cbb6",
   "metadata": {},
   "outputs": [
    {
     "name": "stdout",
     "output_type": "stream",
     "text": [
      "Collecting ipytest\n",
      "  Downloading ipytest-0.14.0-py3-none-any.whl.metadata (15 kB)\n",
      "Requirement already satisfied: ipython in ./anaconda3/lib/python3.10/site-packages (from ipytest) (8.10.0)\n",
      "Requirement already satisfied: packaging in ./anaconda3/lib/python3.10/site-packages (from ipytest) (22.0)\n",
      "Requirement already satisfied: pytest>=5.4 in ./anaconda3/lib/python3.10/site-packages (from ipytest) (7.1.2)\n",
      "Requirement already satisfied: attrs>=19.2.0 in ./anaconda3/lib/python3.10/site-packages (from pytest>=5.4->ipytest) (22.1.0)\n",
      "Requirement already satisfied: iniconfig in ./anaconda3/lib/python3.10/site-packages (from pytest>=5.4->ipytest) (1.1.1)\n",
      "Requirement already satisfied: pluggy<2.0,>=0.12 in ./anaconda3/lib/python3.10/site-packages (from pytest>=5.4->ipytest) (1.0.0)\n",
      "Requirement already satisfied: py>=1.8.2 in ./anaconda3/lib/python3.10/site-packages (from pytest>=5.4->ipytest) (1.11.0)\n",
      "Requirement already satisfied: tomli>=1.0.0 in ./anaconda3/lib/python3.10/site-packages (from pytest>=5.4->ipytest) (2.0.1)\n",
      "Requirement already satisfied: backcall in ./anaconda3/lib/python3.10/site-packages (from ipython->ipytest) (0.2.0)\n",
      "Requirement already satisfied: decorator in ./anaconda3/lib/python3.10/site-packages (from ipython->ipytest) (5.1.1)\n",
      "Requirement already satisfied: jedi>=0.16 in ./anaconda3/lib/python3.10/site-packages (from ipython->ipytest) (0.18.1)\n",
      "Requirement already satisfied: matplotlib-inline in ./anaconda3/lib/python3.10/site-packages (from ipython->ipytest) (0.1.6)\n",
      "Requirement already satisfied: pickleshare in ./anaconda3/lib/python3.10/site-packages (from ipython->ipytest) (0.7.5)\n",
      "Requirement already satisfied: prompt-toolkit<3.1.0,>=3.0.30 in ./anaconda3/lib/python3.10/site-packages (from ipython->ipytest) (3.0.36)\n",
      "Requirement already satisfied: pygments>=2.4.0 in ./anaconda3/lib/python3.10/site-packages (from ipython->ipytest) (2.11.2)\n",
      "Requirement already satisfied: stack-data in ./anaconda3/lib/python3.10/site-packages (from ipython->ipytest) (0.2.0)\n",
      "Requirement already satisfied: traitlets>=5 in ./anaconda3/lib/python3.10/site-packages (from ipython->ipytest) (5.7.1)\n",
      "Requirement already satisfied: pexpect>4.3 in ./anaconda3/lib/python3.10/site-packages (from ipython->ipytest) (4.8.0)\n",
      "Requirement already satisfied: appnope in ./anaconda3/lib/python3.10/site-packages (from ipython->ipytest) (0.1.2)\n",
      "Requirement already satisfied: parso<0.9.0,>=0.8.0 in ./anaconda3/lib/python3.10/site-packages (from jedi>=0.16->ipython->ipytest) (0.8.3)\n",
      "Requirement already satisfied: ptyprocess>=0.5 in ./anaconda3/lib/python3.10/site-packages (from pexpect>4.3->ipython->ipytest) (0.7.0)\n",
      "Requirement already satisfied: wcwidth in ./anaconda3/lib/python3.10/site-packages (from prompt-toolkit<3.1.0,>=3.0.30->ipython->ipytest) (0.2.5)\n",
      "Requirement already satisfied: executing in ./anaconda3/lib/python3.10/site-packages (from stack-data->ipython->ipytest) (0.8.3)\n",
      "Requirement already satisfied: asttokens in ./anaconda3/lib/python3.10/site-packages (from stack-data->ipython->ipytest) (2.0.5)\n",
      "Requirement already satisfied: pure-eval in ./anaconda3/lib/python3.10/site-packages (from stack-data->ipython->ipytest) (0.2.2)\n",
      "Requirement already satisfied: six in ./anaconda3/lib/python3.10/site-packages (from asttokens->stack-data->ipython->ipytest) (1.16.0)\n",
      "Downloading ipytest-0.14.0-py3-none-any.whl (14 kB)\n",
      "Installing collected packages: ipytest\n",
      "Successfully installed ipytest-0.14.0\n",
      "Note: you may need to restart the kernel to use updated packages.\n"
     ]
    }
   ],
   "source": [
    "pip install ipytest\n"
   ]
  },
  {
   "cell_type": "code",
   "execution_count": null,
   "id": "edcf4a47",
   "metadata": {},
   "outputs": [],
   "source": [
    "#Test cases"
   ]
  },
  {
   "cell_type": "code",
   "execution_count": 102,
   "id": "92d9700a",
   "metadata": {},
   "outputs": [],
   "source": [
    "import ipytest"
   ]
  },
  {
   "cell_type": "code",
   "execution_count": 120,
   "id": "e20f64f4",
   "metadata": {},
   "outputs": [],
   "source": [
    "import pytest\n",
    "\n",
    "# Test case to ensure title field does not accept HTML or quote characters\n",
    "def test_title_contains_html_or_quotes_failure():\n",
    "    with pytest.raises(ValueError):\n",
    "        ContentClass(level=\"Level I\", title=\"<script>Alert!</script>\", topic=\"Valid Topic\")\n",
    "\n",
    "# Test case to ensure learning_outcomes field does not accept HTML or quote characters\n",
    "def test_learning_outcomes_contains_html_or_quotes_failure():\n",
    "    with pytest.raises(ValueError):\n",
    "        ContentClass(level=\"Level I\", title=\"Valid Title\", topic=\"Valid Topic\", learning_outcomes=\"Some outcomes<script>\")\n",
    "\n",
    "# Test case to ensure level field does not accept HTML or quote characters\n",
    "def test_level_contains_html_or_quotes_failure():\n",
    "    with pytest.raises(ValueError):\n",
    "        ContentClass(level=\"<script>\", title=\"Valid Title\", topic=\"Valid Topic\")\n",
    "\n",
    "# Test case to ensure level field validates against a specific pattern\n",
    "def test_level_wrong_pattern_failure():\n",
    "    with pytest.raises(ValueError):\n",
    "        ContentClass(level=\"Level IV\", title=\"Valid Title\", topic=\"Valid Topic\")\n",
    "\n",
    "# Test case to ensure topic field does not accept HTML or quote characters\n",
    "def test_topic_contains_html_or_quotes_failure():\n",
    "    with pytest.raises(ValueError):\n",
    "        ContentClass(level=\"Level I\", title=\"Valid Title\", topic=\"<script>Alert!</script>\")\n"
   ]
  },
  {
   "cell_type": "code",
   "execution_count": null,
   "id": "b42c662c",
   "metadata": {},
   "outputs": [],
   "source": []
  },
  {
   "cell_type": "code",
   "execution_count": 121,
   "id": "0af0e7fe",
   "metadata": {},
   "outputs": [],
   "source": [
    "\n",
    "# Test case to verify that a ContentClass object can be successfully created with valid data\n",
    "def test_valid_content_creation_success():\n",
    "    obj = ContentClass(level=\"Level II\", title=\"Valid Title\", topic=\"Valid Topic\", learning_outcomes=\"Some outcomes\")\n",
    "    assert obj is not None\n",
    "\n",
    "# Test case to verify that the learning_outcomes field is optional and can be omitted\n",
    "def test_missing_learning_outcomes_success():\n",
    "    obj = ContentClass(level=\"Level II\", title=\"Valid Title\", topic=\"Valid Topic\")\n",
    "    assert obj.learning_outcomes is None\n",
    "\n",
    "# Test case to verify that a valid level value of \"Level III\" is accepted\n",
    "def test_level_III_success():\n",
    "    obj = ContentClass(level=\"Level III\", title=\"Valid Title\", topic=\"Valid Topic\", learning_outcomes=\"Some outcomes\")\n",
    "    assert obj.level == \"Level III\"\n",
    "\n",
    "# Additional test case to further verify the acceptance of a valid level value \"Level III\"\n",
    "def test_valid_level_III_success():\n",
    "    obj = ContentClass(level=\"Level III\", title=\"Valid Title\", topic=\"Valid Topic\")\n",
    "    assert obj.level == \"Level III\"\n",
    "\n",
    "# Test case to verify that the title field accepts valid input without HTML or quotes\n",
    "def test_valid_title_without_html_or_quotes_success():\n",
    "    obj = ContentClass(level=\"Level I\", title=\"Valid Title\", topic=\"Valid Topic\", learning_outcomes=\"Valid outcomes\")\n",
    "    assert obj.title == \"Valid Title\""
   ]
  },
  {
   "cell_type": "code",
   "execution_count": 122,
   "id": "fec76a0f",
   "metadata": {},
   "outputs": [
    {
     "name": "stdout",
     "output_type": "stream",
     "text": [
      "\u001b[1m======================================= test session starts ========================================\u001b[0m\n",
      "platform darwin -- Python 3.10.9, pytest-7.1.2, pluggy-1.0.0 -- /Users/Aneesh/anaconda3/bin/python\n",
      "cachedir: .pytest_cache\n",
      "rootdir: /Users/Aneesh\n",
      "plugins: anyio-3.5.0, cov-4.1.0, mock-3.12.0\n",
      "\u001b[1mcollecting ... \u001b[0mcollected 10 items\n",
      "\n",
      "t_b07197e984a54c518990616af17b5d1f.py::test_title_contains_html_or_quotes_failure <- ../../var/folders/1r/zt6q31651tv0kfm5wtg7t65m0000gq/T/ipykernel_13840/176117034.py \u001b[32mPASSED\u001b[0m\u001b[32m [ 10%]\u001b[0m\n",
      "t_b07197e984a54c518990616af17b5d1f.py::test_learning_outcomes_contains_html_or_quotes_failure <- ../../var/folders/1r/zt6q31651tv0kfm5wtg7t65m0000gq/T/ipykernel_13840/176117034.py \u001b[32mPASSED\u001b[0m\u001b[32m [ 20%]\u001b[0m\n",
      "t_b07197e984a54c518990616af17b5d1f.py::test_level_contains_html_or_quotes_failure <- ../../var/folders/1r/zt6q31651tv0kfm5wtg7t65m0000gq/T/ipykernel_13840/176117034.py \u001b[32mPASSED\u001b[0m\u001b[32m [ 30%]\u001b[0m\n",
      "t_b07197e984a54c518990616af17b5d1f.py::test_level_wrong_pattern_failure <- ../../var/folders/1r/zt6q31651tv0kfm5wtg7t65m0000gq/T/ipykernel_13840/176117034.py \u001b[32mPASSED\u001b[0m\u001b[32m [ 40%]\u001b[0m\n",
      "t_b07197e984a54c518990616af17b5d1f.py::test_topic_contains_html_or_quotes_failure <- ../../var/folders/1r/zt6q31651tv0kfm5wtg7t65m0000gq/T/ipykernel_13840/176117034.py \u001b[32mPASSED\u001b[0m\u001b[32m [ 50%]\u001b[0m\n",
      "t_b07197e984a54c518990616af17b5d1f.py::test_valid_content_creation_success <- ../../var/folders/1r/zt6q31651tv0kfm5wtg7t65m0000gq/T/ipykernel_13840/147688113.py \u001b[32mPASSED\u001b[0m\u001b[32m [ 60%]\u001b[0m\n",
      "t_b07197e984a54c518990616af17b5d1f.py::test_missing_learning_outcomes_success <- ../../var/folders/1r/zt6q31651tv0kfm5wtg7t65m0000gq/T/ipykernel_13840/147688113.py \u001b[32mPASSED\u001b[0m\u001b[32m [ 70%]\u001b[0m\n",
      "t_b07197e984a54c518990616af17b5d1f.py::test_level_III_success <- ../../var/folders/1r/zt6q31651tv0kfm5wtg7t65m0000gq/T/ipykernel_13840/147688113.py \u001b[32mPASSED\u001b[0m\u001b[32m [ 80%]\u001b[0m\n",
      "t_b07197e984a54c518990616af17b5d1f.py::test_valid_level_III_success <- ../../var/folders/1r/zt6q31651tv0kfm5wtg7t65m0000gq/T/ipykernel_13840/147688113.py \u001b[32mPASSED\u001b[0m\u001b[32m [ 90%]\u001b[0m\n",
      "t_b07197e984a54c518990616af17b5d1f.py::test_valid_title_without_html_or_quotes_success <- ../../var/folders/1r/zt6q31651tv0kfm5wtg7t65m0000gq/T/ipykernel_13840/147688113.py \u001b[32mPASSED\u001b[0m\u001b[32m [100%]\u001b[0m\n",
      "\n",
      "\u001b[32m======================================== \u001b[32m\u001b[1m10 passed\u001b[0m\u001b[32m in 0.12s\u001b[0m\u001b[32m ========================================\u001b[0m\n"
     ]
    },
    {
     "data": {
      "text/plain": [
       "<ExitCode.OK: 0>"
      ]
     },
     "execution_count": 122,
     "metadata": {},
     "output_type": "execute_result"
    }
   ],
   "source": [
    "ipytest.run('-vv')"
   ]
  },
  {
   "cell_type": "code",
   "execution_count": null,
   "id": "18daac20",
   "metadata": {},
   "outputs": [],
   "source": []
  }
 ],
 "metadata": {
  "kernelspec": {
   "display_name": "Python 3 (ipykernel)",
   "language": "python",
   "name": "python3"
  },
  "language_info": {
   "codemirror_mode": {
    "name": "ipython",
    "version": 3
   },
   "file_extension": ".py",
   "mimetype": "text/x-python",
   "name": "python",
   "nbconvert_exporter": "python",
   "pygments_lexer": "ipython3",
   "version": "3.10.9"
  }
 },
 "nbformat": 4,
 "nbformat_minor": 5
}
