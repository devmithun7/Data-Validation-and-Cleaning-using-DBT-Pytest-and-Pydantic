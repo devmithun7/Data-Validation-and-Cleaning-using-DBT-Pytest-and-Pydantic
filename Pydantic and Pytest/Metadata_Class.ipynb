{
 "cells": [
  {
   "cell_type": "code",
   "execution_count": 12,
   "id": "56726218",
   "metadata": {},
   "outputs": [
    {
     "name": "stdout",
     "output_type": "stream",
     "text": [
      "Requirement already satisfied: validators in ./anaconda3/lib/python3.10/site-packages (0.22.0)\n",
      "Note: you may need to restart the kernel to use updated packages.\n"
     ]
    }
   ],
   "source": [
    "pip install validators"
   ]
  },
  {
   "cell_type": "code",
   "execution_count": null,
   "id": "0af264c9",
   "metadata": {},
   "outputs": [],
   "source": []
  },
  {
   "cell_type": "code",
   "execution_count": null,
   "id": "2bcfeeee",
   "metadata": {},
   "outputs": [],
   "source": [
    "'''\n",
    "Defines a Pydantic model class, DocumentMetadata, which is used for documenting metadata of documents. \n",
    "It includes fields like file_size_bytes, num_pages, s3_grobid_text_link, file_path, encryption, and date_updated. \n",
    "The model also includes validators for ensuring that certain fields meet specific criteria, \n",
    "such as being positive integers, having a specific date format, and not containing HTML or quote characters.\n",
    "These validators help ensure that the metadata is valid and can be used reliably in your application.\n",
    "\n",
    "'''"
   ]
  },
  {
   "cell_type": "code",
   "execution_count": 38,
   "id": "f67ebb36",
   "metadata": {},
   "outputs": [
    {
     "name": "stderr",
     "output_type": "stream",
     "text": [
      "/var/folders/1r/zt6q31651tv0kfm5wtg7t65m0000gq/T/ipykernel_22761/212386787.py:13: PydanticDeprecatedSince20: Pydantic V1 style `@validator` validators are deprecated. You should migrate to Pydantic V2 style `@field_validator` validators, see the migration guide for more details. Deprecated in Pydantic V2.0 to be removed in V3.0. See Pydantic V2 Migration Guide at https://errors.pydantic.dev/2.6/migration/\n",
      "  @validator('num_pages', 'file_size_bytes')\n",
      "/var/folders/1r/zt6q31651tv0kfm5wtg7t65m0000gq/T/ipykernel_22761/212386787.py:20: PydanticDeprecatedSince20: Pydantic V1 style `@validator` validators are deprecated. You should migrate to Pydantic V2 style `@field_validator` validators, see the migration guide for more details. Deprecated in Pydantic V2.0 to be removed in V3.0. See Pydantic V2 Migration Guide at https://errors.pydantic.dev/2.6/migration/\n",
      "  @validator('date_updated')\n",
      "/var/folders/1r/zt6q31651tv0kfm5wtg7t65m0000gq/T/ipykernel_22761/212386787.py:30: PydanticDeprecatedSince20: Pydantic V1 style `@validator` validators are deprecated. You should migrate to Pydantic V2 style `@field_validator` validators, see the migration guide for more details. Deprecated in Pydantic V2.0 to be removed in V3.0. See Pydantic V2 Migration Guide at https://errors.pydantic.dev/2.6/migration/\n",
      "  @validator('s3_grobid_text_link', 'file_path', 'encryption', 'date_updated', pre=True)\n"
     ]
    }
   ],
   "source": [
    "from pydantic import BaseModel, validator\n",
    "import re\n",
    "from datetime import datetime\n",
    "\n",
    "class DocumentMetadata(BaseModel):\n",
    "    file_size_bytes: int\n",
    "    num_pages: int\n",
    "    s3_grobid_text_link: str | None = None  # Default None values for optional fields\n",
    "    file_path: str | None = None\n",
    "    encryption: str | None = None\n",
    "    date_updated: str | None\n",
    "\n",
    "    @validator('num_pages', 'file_size_bytes')\n",
    "    @classmethod\n",
    "    def validate_positive_integer(cls, v, values, **kwargs):\n",
    "        if v <= 0:\n",
    "            raise ValueError(\"Must be a positive integer\")\n",
    "        return v\n",
    "\n",
    "    @validator('date_updated')\n",
    "    @classmethod\n",
    "    def validate_date_format(cls, v, values, **kwargs):\n",
    "        if v is not None:  # Check if 'v' is not None before validation\n",
    "            try:\n",
    "                datetime.strptime(v, '%m/%d/%Y')\n",
    "            except ValueError:\n",
    "                raise ValueError(\"date_updated must be in MM/DD/YYYY format\")\n",
    "        return v\n",
    "\n",
    "    @validator('s3_grobid_text_link', 'file_path', 'encryption', 'date_updated', pre=True)\n",
    "    @classmethod\n",
    "    def validate_no_html_or_quotes(cls, v, values, **kwargs):\n",
    "        if v and re.search('[\\'\"‘’”“]|<.*?>', v):\n",
    "            raise ValueError(\"Fields may not contain HTML or quote characters\")\n",
    "        return v\n",
    "\n"
   ]
  },
  {
   "cell_type": "code",
   "execution_count": null,
   "id": "a198b88f",
   "metadata": {},
   "outputs": [],
   "source": [
    "'''reads metadata from PDF files using PyPDF2, creates DocumentMetadata instances, \n",
    "and then writes the validated metadata to a CSV file using pandas. \n",
    "It defines a function get_pdf_metadata that reads the metadata from PDF files and returns a list of metadata dictionaries. \n",
    "Then, it iterates over the metadata dictionaries, validates them using the DocumentMetadata class, and appends them to validated_metadata.\n",
    "Finally, it creates a pandas DataFrame from validated_metadata and writes it to a CSV file specified by csv_file_path.'''"
   ]
  },
  {
   "cell_type": "code",
   "execution_count": 34,
   "id": "ca19b76c",
   "metadata": {},
   "outputs": [],
   "source": [
    "import PyPDF2\n",
    "import pandas as pd\n",
    "import csv\n",
    "import os\n",
    "\n",
    "# Function to read PDF metadata and create DocumentMetadata instances\n",
    "def get_pdf_metadata(content):\n",
    "    all_metadata = []\n",
    "    for pdf_path, s3_grobid_text_link, level in content:\n",
    "        try:\n",
    "            if not os.path.exists(pdf_path):\n",
    "                raise FileNotFoundError(f\"File not found: {pdf_path}\")\n",
    "            with open(pdf_path, 'rb') as file:\n",
    "                pdf_reader = PyPDF2.PdfReader(file)\n",
    "                metadata = DocumentMetadata(\n",
    "                    level=level,\n",
    "                    file_size_bytes=os.path.getsize(pdf_path),\n",
    "                    num_pages=len(pdf_reader.pages),\n",
    "                    s3_grobid_text_link=s3_grobid_text_link,\n",
    "                    file_path=pdf_path,\n",
    "                    encryption=\"Yes\" if pdf_reader.is_encrypted else \"No\",\n",
    "                    date_updated=datetime.today().strftime(\"%m/%d/%Y\")\n",
    "                )\n",
    "                all_metadata.append(metadata.dict())\n",
    "        except Exception as e:\n",
    "            print(f\"Error processing {pdf_path}: {e}\")\n",
    "    return all_metadata\n",
    "\n",
    "content = [\n",
    "    (\"/Users/Aneesh/Downloads/Archive 2 2/2024-l1-topics-combined-2.pdf\",\n",
    "     \"s3://bigdatacasestudy2/GrobidFiles/Grobid_RR_2024_l1_combined.txt\", \"Level I\"),\n",
    "    (\"/Users/Aneesh/Downloads/Archive 2 2/2024-l2-topics-combined-2.pdf\",\n",
    "     \"s3://bigdatacasestudy2/GrobidFiles/Grobid_RR_2024_l2_combined.txt\", \"Level II\"),\n",
    "    (\"/Users/Aneesh/Downloads/Archive 2 2/2024-l3-topics-combined-2.pdf\",\n",
    "     \"s3://bigdatacasestudy2/GrobidFiles/Grobid_RR_2024_l3_combined.txt\", \"Level III\")\n",
    "]\n",
    "\n",
    "all_metadata = get_pdf_metadata(content)\n",
    "\n",
    "validated_metadata = []\n",
    "for metadata in all_metadata:\n",
    "    try:\n",
    "        doc_metadata = DocumentMetadata(\n",
    "            file_size_bytes=metadata['file_size_bytes'],\n",
    "            num_pages=metadata['num_pages'],\n",
    "            s3_grobid_text_link=metadata['s3_grobid_text_link'],\n",
    "            file_path=metadata['file_path'],\n",
    "            encryption=metadata['encryption'],\n",
    "            date_updated=metadata['date_updated']\n",
    "        )\n",
    "        validated_metadata.append(doc_metadata.dict())\n",
    "    except Exception as e:\n",
    "        print(f\"Validation error for {metadata['file_path']}: {e}\")\n",
    "\n",
    "# Writing validated metadata to CSV\n",
    "\n",
    "# Assuming 'validated_metadata' is your list of dictionaries containing the metadata\n",
    "df = pd.DataFrame(validated_metadata)\n",
    "\n",
    "# Specify the full path including the filename\n",
    "csv_file_path = '/Users/Aneesh/Downloads/MetaData Clean CSV/metadata.csv'\n",
    "\n",
    "# Write the DataFrame to a CSV file\n",
    "df.to_csv(csv_file_path, index=False)\n"
   ]
  },
  {
   "cell_type": "code",
   "execution_count": null,
   "id": "b4212494",
   "metadata": {},
   "outputs": [],
   "source": [
    "'''defines several test cases using pytest to validate the behavior of the DocumentMetadata class when provided with invalid data.\n",
    "Each test case uses pytest.raises to check that the class raises a ValueError when encountering specific invalid data. \n",
    "These test cases help ensure that the DocumentMetadata class behaves as expected and validates its inputs correctly.'''"
   ]
  },
  {
   "cell_type": "code",
   "execution_count": 39,
   "id": "6ad0ccba",
   "metadata": {},
   "outputs": [],
   "source": [
    "import pytest\n",
    "\n",
    "\n",
    "# Failed Test Cases\n",
    "def test_file_size_bytes_negative_failure():\n",
    "    \"\"\"Ensure negative file size bytes raise a ValueError.\"\"\"\n",
    "    with pytest.raises(ValueError):\n",
    "        DocumentMetadata(file_size_bytes=-1, num_pages=100, date_updated=\"12/31/2023\")\n",
    "\n",
    "def test_num_pages_zero_failure():\n",
    "    \"\"\"Ensure zero number of pages raises a ValueError.\"\"\"\n",
    "    with pytest.raises(ValueError):\n",
    "        DocumentMetadata(file_size_bytes=5000, num_pages=0, date_updated=\"12/31/2023\")\n",
    "\n",
    "def test_date_updated_invalid_format_failure():\n",
    "    \"\"\"Ensure incorrect date format raises a ValueError.\"\"\"\n",
    "    with pytest.raises(ValueError):\n",
    "        DocumentMetadata(file_size_bytes=5000, num_pages=100, date_updated=\"31/12/2023\")\n",
    "\n",
    "def test_encryption_html_tags_failure():\n",
    "    \"\"\"Ensure HTML tags in encryption field raise a ValueError.\"\"\"\n",
    "    with pytest.raises(ValueError):\n",
    "        DocumentMetadata(file_size_bytes=5000, num_pages=100, encryption=\"<script>alert('hack')</script>\", date_updated=\"12/31/2023\")\n",
    "\n",
    "def test_file_path_contains_quotes_failure():\n",
    "    \"\"\"Ensure quotes in file path raise a ValueError.\"\"\"\n",
    "    with pytest.raises(ValueError):\n",
    "        DocumentMetadata(file_size_bytes=5000, num_pages=100, file_path=\"\\\"/user/data/file.pdf\\\"\", date_updated=\"12/31/2023\")\n"
   ]
  },
  {
   "cell_type": "code",
   "execution_count": null,
   "id": "8085816e",
   "metadata": {},
   "outputs": [],
   "source": []
  },
  {
   "cell_type": "code",
   "execution_count": 40,
   "id": "97766e01",
   "metadata": {},
   "outputs": [],
   "source": [
    "# Passed Test Cases\n",
    "\n",
    "def test_valid_file_size_and_num_pages_success():\n",
    "    \"\"\"Verify valid file size and number of pages are accepted.\"\"\"\n",
    "    obj = DocumentMetadata(file_size_bytes=1024, num_pages=10, date_updated=\"12/31/2023\")\n",
    "    assert obj.file_size_bytes == 1024 and obj.num_pages == 10\n",
    "\n",
    "def test_valid_date_updated_format_success():\n",
    "    \"\"\"Verify correctly formatted date_updated is accepted.\"\"\"\n",
    "    obj = DocumentMetadata(file_size_bytes=2048, num_pages=50, date_updated=\"01/01/2024\")\n",
    "    assert obj.date_updated == \"01/01/2024\"\n",
    "\n",
    "def test_optional_fields_none_success():\n",
    "    \"\"\"Verify optional fields can be None without error.\"\"\"\n",
    "    obj = DocumentMetadata(file_size_bytes=3072, num_pages=75, date_updated=\"02/02/2024\")\n",
    "    assert obj.s3_grobid_text_link is None and obj.file_path is None and obj.encryption is None\n",
    "\n",
    "def test_valid_encryption_field_success():\n",
    "    \"\"\"Verify encryption field accepts valid input without HTML or quotes.\"\"\"\n",
    "    obj = DocumentMetadata(file_size_bytes=4096, num_pages=100, encryption=\"AES256\", date_updated=\"03/03/2024\")\n",
    "    assert obj.encryption == \"AES256\"\n",
    "\n",
    "def test_valid_file_path_success():\n",
    "    \"\"\"Verify file_path field accepts valid input without HTML or quotes.\"\"\"\n",
    "    obj = DocumentMetadata(file_size_bytes=5120, num_pages=125, file_path=\"/data/files/document.pdf\", date_updated=\"04/04/2024\")\n",
    "    assert obj.file_path == \"/data/files/document.pdf\"\n"
   ]
  },
  {
   "cell_type": "code",
   "execution_count": null,
   "id": "b6debf1c",
   "metadata": {},
   "outputs": [],
   "source": []
  },
  {
   "cell_type": "code",
   "execution_count": 31,
   "id": "39b2f46c",
   "metadata": {},
   "outputs": [],
   "source": [
    "import ipytest"
   ]
  },
  {
   "cell_type": "code",
   "execution_count": 41,
   "id": "a4963804",
   "metadata": {},
   "outputs": [
    {
     "name": "stdout",
     "output_type": "stream",
     "text": [
      "\u001b[1m======================================= test session starts ========================================\u001b[0m\n",
      "platform darwin -- Python 3.10.9, pytest-7.1.2, pluggy-1.0.0 -- /Users/Aneesh/anaconda3/bin/python\n",
      "cachedir: .pytest_cache\n",
      "rootdir: /Users/Aneesh\n",
      "plugins: anyio-3.5.0, cov-4.1.0, mock-3.12.0\n",
      "\u001b[1mcollecting ... \u001b[0mcollected 10 items\n",
      "\n",
      "t_469bbbef4b9945baac40a1ec145c2e67.py::test_file_size_bytes_negative_failure <- ../../var/folders/1r/zt6q31651tv0kfm5wtg7t65m0000gq/T/ipykernel_22761/735227127.py \u001b[32mPASSED\u001b[0m\u001b[32m [ 10%]\u001b[0m\n",
      "t_469bbbef4b9945baac40a1ec145c2e67.py::test_num_pages_zero_failure <- ../../var/folders/1r/zt6q31651tv0kfm5wtg7t65m0000gq/T/ipykernel_22761/735227127.py \u001b[32mPASSED\u001b[0m\u001b[32m [ 20%]\u001b[0m\n",
      "t_469bbbef4b9945baac40a1ec145c2e67.py::test_date_updated_invalid_format_failure <- ../../var/folders/1r/zt6q31651tv0kfm5wtg7t65m0000gq/T/ipykernel_22761/735227127.py \u001b[32mPASSED\u001b[0m\u001b[32m [ 30%]\u001b[0m\n",
      "t_469bbbef4b9945baac40a1ec145c2e67.py::test_encryption_html_tags_failure <- ../../var/folders/1r/zt6q31651tv0kfm5wtg7t65m0000gq/T/ipykernel_22761/735227127.py \u001b[32mPASSED\u001b[0m\u001b[32m [ 40%]\u001b[0m\n",
      "t_469bbbef4b9945baac40a1ec145c2e67.py::test_file_path_contains_quotes_failure <- ../../var/folders/1r/zt6q31651tv0kfm5wtg7t65m0000gq/T/ipykernel_22761/735227127.py \u001b[32mPASSED\u001b[0m\u001b[32m [ 50%]\u001b[0m\n",
      "t_469bbbef4b9945baac40a1ec145c2e67.py::test_valid_file_size_and_num_pages_success <- ../../var/folders/1r/zt6q31651tv0kfm5wtg7t65m0000gq/T/ipykernel_22761/1546890187.py \u001b[32mPASSED\u001b[0m\u001b[32m [ 60%]\u001b[0m\n",
      "t_469bbbef4b9945baac40a1ec145c2e67.py::test_valid_date_updated_format_success <- ../../var/folders/1r/zt6q31651tv0kfm5wtg7t65m0000gq/T/ipykernel_22761/1546890187.py \u001b[32mPASSED\u001b[0m\u001b[32m [ 70%]\u001b[0m\n",
      "t_469bbbef4b9945baac40a1ec145c2e67.py::test_optional_fields_none_success <- ../../var/folders/1r/zt6q31651tv0kfm5wtg7t65m0000gq/T/ipykernel_22761/1546890187.py \u001b[32mPASSED\u001b[0m\u001b[32m [ 80%]\u001b[0m\n",
      "t_469bbbef4b9945baac40a1ec145c2e67.py::test_valid_encryption_field_success <- ../../var/folders/1r/zt6q31651tv0kfm5wtg7t65m0000gq/T/ipykernel_22761/1546890187.py \u001b[32mPASSED\u001b[0m\u001b[32m [ 90%]\u001b[0m\n",
      "t_469bbbef4b9945baac40a1ec145c2e67.py::test_valid_file_path_success <- ../../var/folders/1r/zt6q31651tv0kfm5wtg7t65m0000gq/T/ipykernel_22761/1546890187.py \u001b[32mPASSED\u001b[0m\u001b[32m [100%]\u001b[0m\n",
      "\n",
      "\u001b[32m======================================== \u001b[32m\u001b[1m10 passed\u001b[0m\u001b[32m in 0.12s\u001b[0m\u001b[32m ========================================\u001b[0m\n"
     ]
    },
    {
     "data": {
      "text/plain": [
       "<ExitCode.OK: 0>"
      ]
     },
     "execution_count": 41,
     "metadata": {},
     "output_type": "execute_result"
    }
   ],
   "source": [
    "ipytest.run('-vv')"
   ]
  },
  {
   "cell_type": "code",
   "execution_count": null,
   "id": "47ef8307",
   "metadata": {},
   "outputs": [],
   "source": []
  },
  {
   "cell_type": "code",
   "execution_count": null,
   "id": "045e5068",
   "metadata": {},
   "outputs": [],
   "source": []
  },
  {
   "cell_type": "code",
   "execution_count": null,
   "id": "7dfd4564",
   "metadata": {},
   "outputs": [],
   "source": []
  }
 ],
 "metadata": {
  "kernelspec": {
   "display_name": "Python 3 (ipykernel)",
   "language": "python",
   "name": "python3"
  },
  "language_info": {
   "codemirror_mode": {
    "name": "ipython",
    "version": 3
   },
   "file_extension": ".py",
   "mimetype": "text/x-python",
   "name": "python",
   "nbconvert_exporter": "python",
   "pygments_lexer": "ipython3",
   "version": "3.10.9"
  }
 },
 "nbformat": 4,
 "nbformat_minor": 5
}
